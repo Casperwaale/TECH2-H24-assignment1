{
 "cells": [
  {
   "cell_type": "markdown",
   "metadata": {},
   "source": [
    "# TECH 2 mandatory assignment - Part B\n",
    "\n",
    "Write your solution for Part B in this notebook."
   ]
  },
  {
   "cell_type": "code",
   "execution_count": 11,
   "metadata": {},
   "outputs": [],
   "source": [
    "from part_A import std_builtin, std_loops, std_numpy"
   ]
  },
  {
   "cell_type": "code",
   "execution_count": 12,
   "metadata": {},
   "outputs": [
    {
     "name": "stdout",
     "output_type": "stream",
     "text": [
      "<_io.TextIOWrapper name='data.csv' mode='r' encoding='utf-8'>\n"
     ]
    }
   ],
   "source": [
    "\n",
    "# Opening the relevant data file with the coloumns\n",
    "data = open(\"data.csv\")\n",
    "print(data)\n",
    "\n",
    "# Creating three empty lists to store the numbers in\n",
    "coloumn1_lst = []\n",
    "coloumn2_lst = []\n",
    "coloumn3_lst = []\n",
    "\n",
    "#Using for loop to iterate through the whole list of numbers\n",
    "# Finding the first index in the list and creating a stop-index to work with to get out the relevant indexes\n",
    "#Appending all the numbers of the first coloumn to the first list\n",
    "for row in data:\n",
    "    start_index = 0\n",
    "    stop_index = row.index(\",\")\n",
    "# Since the first coloumn is only 100 numbers, it is empty after this and will not work to convert it to a float after this\n",
    "    if row[start_index : stop_index] != \"\":\n",
    "#Appending all the numbers of the first coloumn to the first list\n",
    "        coloumn1_lst.append(float(row[start_index : stop_index]))\n",
    "\n",
    "# Updating the start index to a new start index to get out the numbers of  coloumn 2\n",
    "    start_index = stop_index + 1\n",
    " #Updating the stop_index so it does not stop after the first coloumn, but rather the second   \n",
    "    stop_index = row.index(\",\", start_index)\n",
    "# Doing same procedure to append the relevant numbers to a list for coloumn 2\n",
    "    if row[start_index : stop_index] != \"\":\n",
    "        coloumn2_lst.append(float(row[start_index : stop_index]))\n",
    "\n",
    "    \n",
    "\n",
    "\n",
    "# Update start index once more\n",
    "    start_index = stop_index + 1\n",
    "# There is no stop index, because we are working in the last coloumn\n",
    "    if row[start_index:]:\n",
    "        coloumn3_lst.append(float(row[start_index:]))\n"
   ]
  },
  {
   "cell_type": "code",
   "execution_count": 13,
   "metadata": {},
   "outputs": [
    {
     "name": "stdout",
     "output_type": "stream",
     "text": [
      "standard deviation for the first coloumn is 0.2823721097353601\n",
      "standarsd deviation for the second coloumn is 0.28467443283850546\n",
      "standard deviation for the third coloumn is 0.2854045269476155\n"
     ]
    }
   ],
   "source": [
    "# Finding the std for the three lists with first method\n",
    "\n",
    "std_dev_first_coloumn_first_100 = std_loops(coloumn1_lst)\n",
    "std_dev_second_coloumn_first_1000 = std_loops(coloumn2_lst)\n",
    "std_dev_third_coloumn_first_10000 = std_loops(coloumn3_lst)\n",
    "\n",
    "print(f\"standard deviation for the first coloumn is {std_dev_first_coloumn_first_100}\")\n",
    "print(f\"standarsd deviation for the second coloumn is {std_dev_second_coloumn_first_1000}\")\n",
    "print(f\"standard deviation for the third coloumn is {std_dev_third_coloumn_first_10000}\")"
   ]
  },
  {
   "cell_type": "code",
   "execution_count": 14,
   "metadata": {},
   "outputs": [
    {
     "name": "stdout",
     "output_type": "stream",
     "text": [
      "standard deviation for the first coloumn is 0.2823721097353601\n",
      "standarsd deviation for the second coloumn is 0.2846744328385061\n",
      "standard deviation for the third coloumn is 0.28540452694761564\n"
     ]
    }
   ],
   "source": [
    "# Finding std for the lists with method 2\n",
    "\n",
    "std_dev_first_coloumn_first_100 = std_builtin(coloumn1_lst)\n",
    "std_dev_second_coloumn_first_1000 = std_builtin(coloumn2_lst)\n",
    "std_dev_third_coloumn_first_10000 = std_builtin(coloumn3_lst)\n",
    "\n",
    "print(f\"standard deviation for the first coloumn is {std_dev_first_coloumn_first_100}\")\n",
    "print(f\"standarsd deviation for the second coloumn is {std_dev_second_coloumn_first_1000}\")\n",
    "print(f\"standard deviation for the third coloumn is {std_dev_third_coloumn_first_10000}\")"
   ]
  },
  {
   "cell_type": "code",
   "execution_count": 15,
   "metadata": {},
   "outputs": [
    {
     "name": "stdout",
     "output_type": "stream",
     "text": [
      "standard deviation for the first coloumn is 0.28237210973536014\n",
      "standarsd deviation for the second coloumn is 0.28467443283850596\n",
      "standard deviation for the third coloumn is 0.2854045269476156\n"
     ]
    }
   ],
   "source": [
    "# Finding std for the lists with Method 3\n",
    "\n",
    "std_dev_first_coloumn_first_100 = std_numpy(coloumn1_lst)\n",
    "std_dev_second_coloumn_first_1000 = std_numpy(coloumn2_lst)\n",
    "std_dev_third_coloumn_first_10000 = std_numpy(coloumn3_lst)\n",
    "\n",
    "print(f\"standard deviation for the first coloumn is {std_dev_first_coloumn_first_100}\")\n",
    "print(f\"standarsd deviation for the second coloumn is {std_dev_second_coloumn_first_1000}\")\n",
    "print(f\"standard deviation for the third coloumn is {std_dev_third_coloumn_first_10000}\")"
   ]
  },
  {
   "cell_type": "code",
   "execution_count": 16,
   "metadata": {},
   "outputs": [
    {
     "name": "stdout",
     "output_type": "stream",
     "text": [
      "32.4 μs ± 4.08 μs per loop (mean ± std. dev. of 7 runs, 10,000 loops each)\n",
      "25.3 μs ± 1.7 μs per loop (mean ± std. dev. of 7 runs, 10,000 loops each)\n",
      "33.1 μs ± 1.89 μs per loop (mean ± std. dev. of 7 runs, 10,000 loops each)\n"
     ]
    }
   ],
   "source": [
    "# Comparing the three methos for the first coloumn:\n",
    "\n",
    "%timeit std_loops(coloumn1_lst)\n",
    "%timeit std_builtin(coloumn1_lst)\n",
    "%timeit std_numpy(coloumn1_lst)"
   ]
  },
  {
   "cell_type": "code",
   "execution_count": 17,
   "metadata": {},
   "outputs": [
    {
     "name": "stdout",
     "output_type": "stream",
     "text": [
      "323 μs ± 40.5 μs per loop (mean ± std. dev. of 7 runs, 1,000 loops each)\n",
      "322 μs ± 79.1 μs per loop (mean ± std. dev. of 7 runs, 1,000 loops each)\n",
      "89.9 μs ± 5.83 μs per loop (mean ± std. dev. of 7 runs, 10,000 loops each)\n"
     ]
    }
   ],
   "source": [
    "# Comparing the three methos for the second coloumn:\n",
    "\n",
    "%timeit std_loops(coloumn2_lst)\n",
    "%timeit std_builtin(coloumn2_lst)\n",
    "%timeit std_numpy(coloumn2_lst)"
   ]
  },
  {
   "cell_type": "code",
   "execution_count": 18,
   "metadata": {},
   "outputs": [
    {
     "name": "stdout",
     "output_type": "stream",
     "text": [
      "3.46 ms ± 405 μs per loop (mean ± std. dev. of 7 runs, 100 loops each)\n",
      "2.52 ms ± 201 μs per loop (mean ± std. dev. of 7 runs, 100 loops each)\n",
      "594 μs ± 26.5 μs per loop (mean ± std. dev. of 7 runs, 1,000 loops each)\n"
     ]
    }
   ],
   "source": [
    "# Comparing the three methos for the third coloumn:\n",
    "\n",
    "%timeit std_loops(coloumn3_lst)\n",
    "%timeit std_builtin(coloumn3_lst)\n",
    "%timeit std_numpy(coloumn3_lst)"
   ]
  }
 ],
 "metadata": {
  "kernelspec": {
   "display_name": "base",
   "language": "python",
   "name": "python3"
  },
  "language_info": {
   "codemirror_mode": {
    "name": "ipython",
    "version": 3
   },
   "file_extension": ".py",
   "mimetype": "text/x-python",
   "name": "python",
   "nbconvert_exporter": "python",
   "pygments_lexer": "ipython3",
   "version": "3.12.4"
  }
 },
 "nbformat": 4,
 "nbformat_minor": 2
}
